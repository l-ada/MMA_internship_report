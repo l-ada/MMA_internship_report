{
 "cells": [
  {
   "cell_type": "code",
   "execution_count": 7,
   "id": "777529d8-9dcd-4b00-9a01-2a887d622f8e",
   "metadata": {},
   "outputs": [
    {
     "name": "stderr",
     "output_type": "stream",
     "text": [
      "/home/ladamowi/anaconda3/envs/mldft/lib/python3.11/site-packages/tbparse/summary_reader.py:309: PerformanceWarning: DataFrame is highly fragmented.  This is usually the result of calling `frame.insert` many times, which has poor performance.  Consider joining all columns at once using pd.concat(axis=1) instead. To get a de-fragmented frame, use `newframe = frame.copy()`\n",
      "  df.reset_index(inplace=True)\n",
      "/home/ladamowi/anaconda3/envs/mldft/lib/python3.11/site-packages/tbparse/summary_reader.py:309: PerformanceWarning: DataFrame is highly fragmented.  This is usually the result of calling `frame.insert` many times, which has poor performance.  Consider joining all columns at once using pd.concat(axis=1) instead. To get a de-fragmented frame, use `newframe = frame.copy()`\n",
      "  df.reset_index(inplace=True)\n"
     ]
    }
   ],
   "source": [
    "from tbparse import SummaryReader\n",
    "\n",
    "# This creates a pivoted DataFrame where each tag becomes a column\n",
    "reader = SummaryReader('.', pivot=True)\n",
    "df = reader.scalars\n",
    "\n",
    "# Now you have columns like: step, loss, accuracy, val_loss, etc.\n",
    "df.to_csv('pivoted_tensorboard_data.csv', index=False)"
   ]
  }
 ],
 "metadata": {
  "kernelspec": {
   "display_name": "Python 3 (ipykernel)",
   "language": "python",
   "name": "python3"
  },
  "language_info": {
   "codemirror_mode": {
    "name": "ipython",
    "version": 3
   },
   "file_extension": ".py",
   "mimetype": "text/x-python",
   "name": "python",
   "nbconvert_exporter": "python",
   "pygments_lexer": "ipython3",
   "version": "3.11.11"
  }
 },
 "nbformat": 4,
 "nbformat_minor": 5
}
